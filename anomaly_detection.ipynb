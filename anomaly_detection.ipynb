{
 "cells": [
  {
   "cell_type": "code",
   "execution_count": null,
   "metadata": {},
   "outputs": [
    {
     "name": "stdout",
     "output_type": "stream",
     "text": [
      "Collecting anomalib\n",
      "  Downloading anomalib-1.2.0-py3-none-any.whl.metadata (27 kB)\n",
      "Collecting omegaconf>=2.1.1 (from anomalib)\n",
      "  Using cached omegaconf-2.3.0-py3-none-any.whl.metadata (3.9 kB)\n",
      "Collecting rich>=13.5.2 (from anomalib)\n",
      "  Downloading rich-13.9.4-py3-none-any.whl.metadata (18 kB)\n",
      "Collecting jsonargparse>=4.27.7 (from jsonargparse[signatures]>=4.27.7->anomalib)\n",
      "  Downloading jsonargparse-4.34.0-py3-none-any.whl.metadata (12 kB)\n",
      "Collecting docstring-parser (from anomalib)\n",
      "  Using cached docstring_parser-0.16-py3-none-any.whl.metadata (3.0 kB)\n",
      "Collecting rich-argparse (from anomalib)\n",
      "  Downloading rich_argparse-1.6.0-py3-none-any.whl.metadata (14 kB)\n",
      "Requirement already satisfied: lightning-utilities in /home/mmaddur1/.local/lib/python3.12/site-packages (from anomalib) (0.11.7)\n",
      "Requirement already satisfied: PyYAML>=3.13 in /home/mmaddur1/.conda/envs/test3/lib/python3.12/site-packages (from jsonargparse>=4.27.7->jsonargparse[signatures]>=4.27.7->anomalib) (6.0.2)\n",
      "Collecting typeshed-client>=2.1.0 (from jsonargparse[signatures]>=4.27.7->anomalib)\n",
      "  Using cached typeshed_client-2.7.0-py3-none-any.whl.metadata (7.9 kB)\n",
      "Collecting antlr4-python3-runtime==4.9.* (from omegaconf>=2.1.1->anomalib)\n",
      "  Using cached antlr4_python3_runtime-4.9.3-py3-none-any.whl\n",
      "Collecting markdown-it-py>=2.2.0 (from rich>=13.5.2->anomalib)\n",
      "  Using cached markdown_it_py-3.0.0-py3-none-any.whl.metadata (6.9 kB)\n",
      "Requirement already satisfied: pygments<3.0.0,>=2.13.0 in /home/mmaddur1/.conda/envs/test3/lib/python3.12/site-packages (from rich>=13.5.2->anomalib) (2.18.0)\n",
      "Requirement already satisfied: packaging>=17.1 in /home/mmaddur1/.conda/envs/test3/lib/python3.12/site-packages (from lightning-utilities->anomalib) (24.1)\n",
      "Requirement already satisfied: setuptools in /home/mmaddur1/.conda/envs/test3/lib/python3.12/site-packages (from lightning-utilities->anomalib) (73.0.1)\n",
      "Requirement already satisfied: typing-extensions in /home/mmaddur1/.conda/envs/test3/lib/python3.12/site-packages (from lightning-utilities->anomalib) (4.12.2)\n",
      "Collecting mdurl~=0.1 (from markdown-it-py>=2.2.0->rich>=13.5.2->anomalib)\n",
      "  Using cached mdurl-0.1.2-py3-none-any.whl.metadata (1.6 kB)\n",
      "Collecting importlib-resources>=1.4.0 (from typeshed-client>=2.1.0->jsonargparse[signatures]>=4.27.7->anomalib)\n",
      "  Using cached importlib_resources-6.4.5-py3-none-any.whl.metadata (4.0 kB)\n",
      "Downloading anomalib-1.2.0-py3-none-any.whl (486 kB)\n",
      "Downloading jsonargparse-4.34.0-py3-none-any.whl (210 kB)\n",
      "Using cached docstring_parser-0.16-py3-none-any.whl (36 kB)\n",
      "Using cached omegaconf-2.3.0-py3-none-any.whl (79 kB)\n",
      "Downloading rich-13.9.4-py3-none-any.whl (242 kB)\n",
      "Downloading rich_argparse-1.6.0-py3-none-any.whl (20 kB)\n",
      "Using cached markdown_it_py-3.0.0-py3-none-any.whl (87 kB)\n",
      "Using cached typeshed_client-2.7.0-py3-none-any.whl (624 kB)\n",
      "Using cached importlib_resources-6.4.5-py3-none-any.whl (36 kB)\n",
      "Using cached mdurl-0.1.2-py3-none-any.whl (10.0 kB)\n",
      "Installing collected packages: antlr4-python3-runtime, omegaconf, mdurl, jsonargparse, importlib-resources, docstring-parser, typeshed-client, markdown-it-py, rich, rich-argparse, anomalib\n",
      "Successfully installed anomalib-1.2.0 antlr4-python3-runtime-4.9.3 docstring-parser-0.16 importlib-resources-6.4.5 jsonargparse-4.34.0 markdown-it-py-3.0.0 mdurl-0.1.2 omegaconf-2.3.0 rich-13.9.4 rich-argparse-1.6.0 typeshed-client-2.7.0\n",
      "Note: you may need to restart the kernel to use updated packages.\n"
     ]
    }
   ],
   "source": [
    "pip install anomalib"
   ]
  },
  {
   "cell_type": "code",
   "execution_count": null,
   "metadata": {},
   "outputs": [
    {
     "name": "stdout",
     "output_type": "stream",
     "text": [
      "Collecting pytorch-lightning\n",
      "  Using cached pytorch_lightning-2.4.0-py3-none-any.whl.metadata (21 kB)\n",
      "Requirement already satisfied: torch>=2.1.0 in /home/mmaddur1/.local/lib/python3.12/site-packages (from pytorch-lightning) (2.4.1)\n",
      "Requirement already satisfied: tqdm>=4.57.0 in /home/mmaddur1/.conda/envs/test3/lib/python3.12/site-packages (from pytorch-lightning) (4.66.5)\n",
      "Requirement already satisfied: PyYAML>=5.4 in /home/mmaddur1/.conda/envs/test3/lib/python3.12/site-packages (from pytorch-lightning) (6.0.2)\n",
      "Requirement already satisfied: fsspec>=2022.5.0 in /home/mmaddur1/.conda/envs/test3/lib/python3.12/site-packages (from fsspec[http]>=2022.5.0->pytorch-lightning) (2024.9.0)\n",
      "Requirement already satisfied: torchmetrics>=0.7.0 in /home/mmaddur1/.local/lib/python3.12/site-packages (from pytorch-lightning) (1.4.3)\n",
      "Requirement already satisfied: packaging>=20.0 in /home/mmaddur1/.conda/envs/test3/lib/python3.12/site-packages (from pytorch-lightning) (24.1)\n",
      "Requirement already satisfied: typing-extensions>=4.4.0 in /home/mmaddur1/.conda/envs/test3/lib/python3.12/site-packages (from pytorch-lightning) (4.12.2)\n",
      "Requirement already satisfied: lightning-utilities>=0.10.0 in /home/mmaddur1/.local/lib/python3.12/site-packages (from pytorch-lightning) (0.11.7)\n",
      "Collecting aiohttp!=4.0.0a0,!=4.0.0a1 (from fsspec[http]>=2022.5.0->pytorch-lightning)\n",
      "  Downloading aiohttp-3.11.8-cp312-cp312-manylinux_2_17_x86_64.manylinux2014_x86_64.whl.metadata (7.7 kB)\n",
      "Requirement already satisfied: setuptools in /home/mmaddur1/.conda/envs/test3/lib/python3.12/site-packages (from lightning-utilities>=0.10.0->pytorch-lightning) (73.0.1)\n",
      "Requirement already satisfied: filelock in /home/mmaddur1/.local/lib/python3.12/site-packages (from torch>=2.1.0->pytorch-lightning) (3.16.0)\n",
      "Requirement already satisfied: sympy in /home/mmaddur1/.conda/envs/test3/lib/python3.12/site-packages (from torch>=2.1.0->pytorch-lightning) (1.13.2)\n",
      "Requirement already satisfied: networkx in /home/mmaddur1/.conda/envs/test3/lib/python3.12/site-packages (from torch>=2.1.0->pytorch-lightning) (3.3)\n",
      "Requirement already satisfied: jinja2 in /home/mmaddur1/.conda/envs/test3/lib/python3.12/site-packages (from torch>=2.1.0->pytorch-lightning) (3.1.4)\n",
      "Requirement already satisfied: nvidia-cuda-nvrtc-cu12==12.1.105 in /home/mmaddur1/.local/lib/python3.12/site-packages (from torch>=2.1.0->pytorch-lightning) (12.1.105)\n",
      "Requirement already satisfied: nvidia-cuda-runtime-cu12==12.1.105 in /home/mmaddur1/.local/lib/python3.12/site-packages (from torch>=2.1.0->pytorch-lightning) (12.1.105)\n",
      "Requirement already satisfied: nvidia-cuda-cupti-cu12==12.1.105 in /home/mmaddur1/.local/lib/python3.12/site-packages (from torch>=2.1.0->pytorch-lightning) (12.1.105)\n",
      "Requirement already satisfied: nvidia-cudnn-cu12==9.1.0.70 in /home/mmaddur1/.local/lib/python3.12/site-packages (from torch>=2.1.0->pytorch-lightning) (9.1.0.70)\n",
      "Requirement already satisfied: nvidia-cublas-cu12==12.1.3.1 in /home/mmaddur1/.local/lib/python3.12/site-packages (from torch>=2.1.0->pytorch-lightning) (12.1.3.1)\n",
      "Requirement already satisfied: nvidia-cufft-cu12==11.0.2.54 in /home/mmaddur1/.local/lib/python3.12/site-packages (from torch>=2.1.0->pytorch-lightning) (11.0.2.54)\n",
      "Requirement already satisfied: nvidia-curand-cu12==10.3.2.106 in /home/mmaddur1/.local/lib/python3.12/site-packages (from torch>=2.1.0->pytorch-lightning) (10.3.2.106)\n",
      "Requirement already satisfied: nvidia-cusolver-cu12==11.4.5.107 in /home/mmaddur1/.local/lib/python3.12/site-packages (from torch>=2.1.0->pytorch-lightning) (11.4.5.107)\n",
      "Requirement already satisfied: nvidia-cusparse-cu12==12.1.0.106 in /home/mmaddur1/.local/lib/python3.12/site-packages (from torch>=2.1.0->pytorch-lightning) (12.1.0.106)\n",
      "Requirement already satisfied: nvidia-nccl-cu12==2.20.5 in /home/mmaddur1/.local/lib/python3.12/site-packages (from torch>=2.1.0->pytorch-lightning) (2.20.5)\n",
      "Requirement already satisfied: nvidia-nvtx-cu12==12.1.105 in /home/mmaddur1/.local/lib/python3.12/site-packages (from torch>=2.1.0->pytorch-lightning) (12.1.105)\n",
      "Requirement already satisfied: triton==3.0.0 in /home/mmaddur1/.local/lib/python3.12/site-packages (from torch>=2.1.0->pytorch-lightning) (3.0.0)\n",
      "Requirement already satisfied: nvidia-nvjitlink-cu12 in /home/mmaddur1/.local/lib/python3.12/site-packages (from nvidia-cusolver-cu12==11.4.5.107->torch>=2.1.0->pytorch-lightning) (12.6.68)\n",
      "Requirement already satisfied: numpy>1.20.0 in /home/mmaddur1/.conda/envs/test3/lib/python3.12/site-packages (from torchmetrics>=0.7.0->pytorch-lightning) (2.1.1)\n",
      "Collecting aiohappyeyeballs>=2.3.0 (from aiohttp!=4.0.0a0,!=4.0.0a1->fsspec[http]>=2022.5.0->pytorch-lightning)\n",
      "  Using cached aiohappyeyeballs-2.4.3-py3-none-any.whl.metadata (6.1 kB)\n",
      "Collecting aiosignal>=1.1.2 (from aiohttp!=4.0.0a0,!=4.0.0a1->fsspec[http]>=2022.5.0->pytorch-lightning)\n",
      "  Using cached aiosignal-1.3.1-py3-none-any.whl.metadata (4.0 kB)\n",
      "Collecting attrs>=17.3.0 (from aiohttp!=4.0.0a0,!=4.0.0a1->fsspec[http]>=2022.5.0->pytorch-lightning)\n",
      "  Using cached attrs-24.2.0-py3-none-any.whl.metadata (11 kB)\n",
      "Collecting frozenlist>=1.1.1 (from aiohttp!=4.0.0a0,!=4.0.0a1->fsspec[http]>=2022.5.0->pytorch-lightning)\n",
      "  Downloading frozenlist-1.5.0-cp312-cp312-manylinux_2_5_x86_64.manylinux1_x86_64.manylinux_2_17_x86_64.manylinux2014_x86_64.whl.metadata (13 kB)\n",
      "Collecting multidict<7.0,>=4.5 (from aiohttp!=4.0.0a0,!=4.0.0a1->fsspec[http]>=2022.5.0->pytorch-lightning)\n",
      "  Using cached multidict-6.1.0-cp312-cp312-manylinux_2_17_x86_64.manylinux2014_x86_64.whl.metadata (5.0 kB)\n",
      "Collecting propcache>=0.2.0 (from aiohttp!=4.0.0a0,!=4.0.0a1->fsspec[http]>=2022.5.0->pytorch-lightning)\n",
      "  Downloading propcache-0.2.0-cp312-cp312-manylinux_2_17_x86_64.manylinux2014_x86_64.whl.metadata (7.7 kB)\n",
      "Collecting yarl<2.0,>=1.17.0 (from aiohttp!=4.0.0a0,!=4.0.0a1->fsspec[http]>=2022.5.0->pytorch-lightning)\n",
      "  Downloading yarl-1.18.0-cp312-cp312-manylinux_2_17_x86_64.manylinux2014_x86_64.whl.metadata (67 kB)\n",
      "Requirement already satisfied: MarkupSafe>=2.0 in /home/mmaddur1/.conda/envs/test3/lib/python3.12/site-packages (from jinja2->torch>=2.1.0->pytorch-lightning) (2.1.5)\n",
      "Requirement already satisfied: mpmath<1.4,>=1.1.0 in /home/mmaddur1/.conda/envs/test3/lib/python3.12/site-packages (from sympy->torch>=2.1.0->pytorch-lightning) (1.3.0)\n",
      "Requirement already satisfied: idna>=2.0 in /home/mmaddur1/.conda/envs/test3/lib/python3.12/site-packages (from yarl<2.0,>=1.17.0->aiohttp!=4.0.0a0,!=4.0.0a1->fsspec[http]>=2022.5.0->pytorch-lightning) (3.8)\n",
      "Using cached pytorch_lightning-2.4.0-py3-none-any.whl (815 kB)\n",
      "Downloading aiohttp-3.11.8-cp312-cp312-manylinux_2_17_x86_64.manylinux2014_x86_64.whl (1.7 MB)\n",
      "\u001b[2K   \u001b[90m━━━━━━━━━━━━━━━━━━━━━━━━━━━━━━━━━━━━━━━━\u001b[0m \u001b[32m1.7/1.7 MB\u001b[0m \u001b[31m49.5 MB/s\u001b[0m eta \u001b[36m0:00:00\u001b[0m\n",
      "\u001b[?25hUsing cached aiohappyeyeballs-2.4.3-py3-none-any.whl (14 kB)\n",
      "Using cached aiosignal-1.3.1-py3-none-any.whl (7.6 kB)\n",
      "Using cached attrs-24.2.0-py3-none-any.whl (63 kB)\n",
      "Downloading frozenlist-1.5.0-cp312-cp312-manylinux_2_5_x86_64.manylinux1_x86_64.manylinux_2_17_x86_64.manylinux2014_x86_64.whl (283 kB)\n",
      "Using cached multidict-6.1.0-cp312-cp312-manylinux_2_17_x86_64.manylinux2014_x86_64.whl (131 kB)\n",
      "Downloading propcache-0.2.0-cp312-cp312-manylinux_2_17_x86_64.manylinux2014_x86_64.whl (248 kB)\n",
      "Downloading yarl-1.18.0-cp312-cp312-manylinux_2_17_x86_64.manylinux2014_x86_64.whl (336 kB)\n",
      "Installing collected packages: propcache, multidict, frozenlist, attrs, aiohappyeyeballs, yarl, aiosignal, aiohttp, pytorch-lightning\n",
      "Successfully installed aiohappyeyeballs-2.4.3 aiohttp-3.11.8 aiosignal-1.3.1 attrs-24.2.0 frozenlist-1.5.0 multidict-6.1.0 propcache-0.2.0 pytorch-lightning-2.4.0 yarl-1.18.0\n",
      "Note: you may need to restart the kernel to use updated packages.\n"
     ]
    }
   ],
   "source": [
    "# pip install pytorch-lightning"
   ]
  },
  {
   "cell_type": "code",
   "execution_count": 3,
   "metadata": {},
   "outputs": [
    {
     "ename": "SyntaxError",
     "evalue": "invalid syntax (2256797671.py, line 2)",
     "output_type": "error",
     "traceback": [
      "\u001b[0;36m  Cell \u001b[0;32mIn[3], line 2\u001b[0;36m\u001b[0m\n\u001b[0;31m    pip install numpy\u001b[0m\n\u001b[0m        ^\u001b[0m\n\u001b[0;31mSyntaxError\u001b[0m\u001b[0;31m:\u001b[0m invalid syntax\n"
     ]
    }
   ],
   "source": [
    "# pip install --upgrade lightning\n",
    "pip install numpy"
   ]
  },
  {
   "cell_type": "code",
   "execution_count": 6,
   "metadata": {
    "vscode": {
     "languageId": "powershell"
    }
   },
   "outputs": [
    {
     "name": "stdout",
     "output_type": "stream",
     "text": [
      "Found existing installation: numpy 2.1.1\n",
      "Uninstalling numpy-2.1.1:\n",
      "  Successfully uninstalled numpy-2.1.1\n",
      "\u001b[33mWARNING: Failed to remove contents in a temporary directory '/home/mmaddur1/.conda/envs/test3/lib/python3.12/site-packages/~umpy.libs'.\n",
      "You can safely remove it manually.\u001b[0m\u001b[33m\n",
      "\u001b[0m\u001b[33mWARNING: Failed to remove contents in a temporary directory '/home/mmaddur1/.conda/envs/test3/lib/python3.12/site-packages/~umpy'.\n",
      "You can safely remove it manually.\u001b[0m\u001b[33m\n",
      "\u001b[0mNote: you may need to restart the kernel to use updated packages.\n"
     ]
    }
   ],
   "source": [
    "pip uninstall numpy -y"
   ]
  },
  {
   "cell_type": "code",
   "execution_count": null,
   "metadata": {
    "vscode": {
     "languageId": "bat"
    }
   },
   "outputs": [
    {
     "ename": "SyntaxError",
     "evalue": "invalid syntax (2530314443.py, line 1)",
     "output_type": "error",
     "traceback": [
      "\u001b[0;36m  Cell \u001b[0;32mIn[10], line 1\u001b[0;36m\u001b[0m\n\u001b[0;31m    @REM pip install \"numpy<2\"\u001b[0m\n\u001b[0m         ^\u001b[0m\n\u001b[0;31mSyntaxError\u001b[0m\u001b[0;31m:\u001b[0m invalid syntax\n"
     ]
    }
   ],
   "source": [
    "@REM pip install \"numpy<2\"\n"
   ]
  },
  {
   "cell_type": "code",
   "execution_count": null,
   "metadata": {
    "vscode": {
     "languageId": "bat"
    }
   },
   "outputs": [
    {
     "name": "stdout",
     "output_type": "stream",
     "text": [
      "Collecting anomalib\n",
      "  Using cached anomalib-1.2.0-py3-none-any.whl.metadata (27 kB)\n",
      "Requirement already satisfied: omegaconf>=2.1.1 in /home/mmaddur1/.conda/envs/test3/lib/python3.12/site-packages (from anomalib) (2.3.0)\n",
      "Requirement already satisfied: rich>=13.5.2 in /home/mmaddur1/.conda/envs/test3/lib/python3.12/site-packages (from anomalib) (13.9.4)\n",
      "Requirement already satisfied: jsonargparse>=4.27.7 in /home/mmaddur1/.conda/envs/test3/lib/python3.12/site-packages (from jsonargparse[signatures]>=4.27.7->anomalib) (4.34.0)\n",
      "Requirement already satisfied: docstring-parser in /home/mmaddur1/.conda/envs/test3/lib/python3.12/site-packages (from anomalib) (0.16)\n",
      "Requirement already satisfied: rich-argparse in /home/mmaddur1/.conda/envs/test3/lib/python3.12/site-packages (from anomalib) (1.6.0)\n",
      "Requirement already satisfied: lightning-utilities in /home/mmaddur1/.local/lib/python3.12/site-packages (from anomalib) (0.11.7)\n",
      "Requirement already satisfied: PyYAML>=3.13 in /home/mmaddur1/.conda/envs/test3/lib/python3.12/site-packages (from jsonargparse>=4.27.7->jsonargparse[signatures]>=4.27.7->anomalib) (6.0.2)\n",
      "Requirement already satisfied: typeshed-client>=2.1.0 in /home/mmaddur1/.conda/envs/test3/lib/python3.12/site-packages (from jsonargparse[signatures]>=4.27.7->anomalib) (2.7.0)\n",
      "Requirement already satisfied: antlr4-python3-runtime==4.9.* in /home/mmaddur1/.conda/envs/test3/lib/python3.12/site-packages (from omegaconf>=2.1.1->anomalib) (4.9.3)\n",
      "Requirement already satisfied: markdown-it-py>=2.2.0 in /home/mmaddur1/.conda/envs/test3/lib/python3.12/site-packages (from rich>=13.5.2->anomalib) (3.0.0)\n",
      "Requirement already satisfied: pygments<3.0.0,>=2.13.0 in /home/mmaddur1/.conda/envs/test3/lib/python3.12/site-packages (from rich>=13.5.2->anomalib) (2.18.0)\n",
      "Requirement already satisfied: packaging>=17.1 in /home/mmaddur1/.conda/envs/test3/lib/python3.12/site-packages (from lightning-utilities->anomalib) (24.1)\n",
      "Requirement already satisfied: setuptools in /home/mmaddur1/.conda/envs/test3/lib/python3.12/site-packages (from lightning-utilities->anomalib) (73.0.1)\n",
      "Requirement already satisfied: typing-extensions in /home/mmaddur1/.conda/envs/test3/lib/python3.12/site-packages (from lightning-utilities->anomalib) (4.12.2)\n",
      "Requirement already satisfied: mdurl~=0.1 in /home/mmaddur1/.conda/envs/test3/lib/python3.12/site-packages (from markdown-it-py>=2.2.0->rich>=13.5.2->anomalib) (0.1.2)\n",
      "Requirement already satisfied: importlib-resources>=1.4.0 in /home/mmaddur1/.conda/envs/test3/lib/python3.12/site-packages (from typeshed-client>=2.1.0->jsonargparse[signatures]>=4.27.7->anomalib) (6.4.5)\n",
      "Using cached anomalib-1.2.0-py3-none-any.whl (486 kB)\n",
      "Installing collected packages: anomalib\n",
      "Successfully installed anomalib-1.2.0\n",
      "Note: you may need to restart the kernel to use updated packages.\n"
     ]
    }
   ],
   "source": [
    "@REM pip install --upgrade anomalib"
   ]
  },
  {
   "cell_type": "code",
   "execution_count": 2,
   "metadata": {},
   "outputs": [
    {
     "name": "stdout",
     "output_type": "stream",
     "text": [
      "Collecting kornia\n",
      "  Downloading kornia-0.7.4-py2.py3-none-any.whl.metadata (18 kB)\n",
      "Collecting kornia-rs>=0.1.0 (from kornia)\n",
      "  Downloading kornia_rs-0.1.7-cp312-cp312-manylinux_2_17_x86_64.manylinux2014_x86_64.whl.metadata (9.1 kB)\n",
      "Requirement already satisfied: packaging in /home/mmaddur1/.conda/envs/test3/lib/python3.12/site-packages (from kornia) (24.1)\n",
      "Requirement already satisfied: torch>=1.9.1 in /home/mmaddur1/.local/lib/python3.12/site-packages (from kornia) (2.4.1)\n",
      "Requirement already satisfied: filelock in /home/mmaddur1/.local/lib/python3.12/site-packages (from torch>=1.9.1->kornia) (3.16.0)\n",
      "Requirement already satisfied: typing-extensions>=4.8.0 in /home/mmaddur1/.conda/envs/test3/lib/python3.12/site-packages (from torch>=1.9.1->kornia) (4.12.2)\n",
      "Requirement already satisfied: sympy in /home/mmaddur1/.conda/envs/test3/lib/python3.12/site-packages (from torch>=1.9.1->kornia) (1.13.2)\n",
      "Requirement already satisfied: networkx in /home/mmaddur1/.conda/envs/test3/lib/python3.12/site-packages (from torch>=1.9.1->kornia) (3.3)\n",
      "Requirement already satisfied: jinja2 in /home/mmaddur1/.conda/envs/test3/lib/python3.12/site-packages (from torch>=1.9.1->kornia) (3.1.4)\n",
      "Requirement already satisfied: fsspec in /home/mmaddur1/.conda/envs/test3/lib/python3.12/site-packages (from torch>=1.9.1->kornia) (2024.9.0)\n",
      "Requirement already satisfied: setuptools in /home/mmaddur1/.conda/envs/test3/lib/python3.12/site-packages (from torch>=1.9.1->kornia) (73.0.1)\n",
      "Requirement already satisfied: nvidia-cuda-nvrtc-cu12==12.1.105 in /home/mmaddur1/.local/lib/python3.12/site-packages (from torch>=1.9.1->kornia) (12.1.105)\n",
      "Requirement already satisfied: nvidia-cuda-runtime-cu12==12.1.105 in /home/mmaddur1/.local/lib/python3.12/site-packages (from torch>=1.9.1->kornia) (12.1.105)\n",
      "Requirement already satisfied: nvidia-cuda-cupti-cu12==12.1.105 in /home/mmaddur1/.local/lib/python3.12/site-packages (from torch>=1.9.1->kornia) (12.1.105)\n",
      "Requirement already satisfied: nvidia-cudnn-cu12==9.1.0.70 in /home/mmaddur1/.local/lib/python3.12/site-packages (from torch>=1.9.1->kornia) (9.1.0.70)\n",
      "Requirement already satisfied: nvidia-cublas-cu12==12.1.3.1 in /home/mmaddur1/.local/lib/python3.12/site-packages (from torch>=1.9.1->kornia) (12.1.3.1)\n",
      "Requirement already satisfied: nvidia-cufft-cu12==11.0.2.54 in /home/mmaddur1/.local/lib/python3.12/site-packages (from torch>=1.9.1->kornia) (11.0.2.54)\n",
      "Requirement already satisfied: nvidia-curand-cu12==10.3.2.106 in /home/mmaddur1/.local/lib/python3.12/site-packages (from torch>=1.9.1->kornia) (10.3.2.106)\n",
      "Requirement already satisfied: nvidia-cusolver-cu12==11.4.5.107 in /home/mmaddur1/.local/lib/python3.12/site-packages (from torch>=1.9.1->kornia) (11.4.5.107)\n",
      "Requirement already satisfied: nvidia-cusparse-cu12==12.1.0.106 in /home/mmaddur1/.local/lib/python3.12/site-packages (from torch>=1.9.1->kornia) (12.1.0.106)\n",
      "Requirement already satisfied: nvidia-nccl-cu12==2.20.5 in /home/mmaddur1/.local/lib/python3.12/site-packages (from torch>=1.9.1->kornia) (2.20.5)\n",
      "Requirement already satisfied: nvidia-nvtx-cu12==12.1.105 in /home/mmaddur1/.local/lib/python3.12/site-packages (from torch>=1.9.1->kornia) (12.1.105)\n",
      "Requirement already satisfied: triton==3.0.0 in /home/mmaddur1/.local/lib/python3.12/site-packages (from torch>=1.9.1->kornia) (3.0.0)\n",
      "Requirement already satisfied: nvidia-nvjitlink-cu12 in /home/mmaddur1/.local/lib/python3.12/site-packages (from nvidia-cusolver-cu12==11.4.5.107->torch>=1.9.1->kornia) (12.6.68)\n",
      "Requirement already satisfied: MarkupSafe>=2.0 in /home/mmaddur1/.conda/envs/test3/lib/python3.12/site-packages (from jinja2->torch>=1.9.1->kornia) (2.1.5)\n",
      "Requirement already satisfied: mpmath<1.4,>=1.1.0 in /home/mmaddur1/.conda/envs/test3/lib/python3.12/site-packages (from sympy->torch>=1.9.1->kornia) (1.3.0)\n",
      "Downloading kornia-0.7.4-py2.py3-none-any.whl (899 kB)\n",
      "\u001b[2K   \u001b[90m━━━━━━━━━━━━━━━━━━━━━━━━━━━━━━━━━━━━━━━━\u001b[0m \u001b[32m899.4/899.4 kB\u001b[0m \u001b[31m27.9 MB/s\u001b[0m eta \u001b[36m0:00:00\u001b[0m\n",
      "\u001b[?25hDownloading kornia_rs-0.1.7-cp312-cp312-manylinux_2_17_x86_64.manylinux2014_x86_64.whl (1.6 MB)\n",
      "\u001b[2K   \u001b[90m━━━━━━━━━━━━━━━━━━━━━━━━━━━━━━━━━━━━━━━━\u001b[0m \u001b[32m1.6/1.6 MB\u001b[0m \u001b[31m49.4 MB/s\u001b[0m eta \u001b[36m0:00:00\u001b[0m\n",
      "\u001b[?25hInstalling collected packages: kornia-rs, kornia\n",
      "Successfully installed kornia-0.7.4 kornia-rs-0.1.7\n",
      "Note: you may need to restart the kernel to use updated packages.\n"
     ]
    }
   ],
   "source": [
    "pip install kornia"
   ]
  },
  {
   "cell_type": "code",
   "execution_count": 4,
   "metadata": {},
   "outputs": [
    {
     "name": "stderr",
     "output_type": "stream",
     "text": [
      "INFO:anomalib.data.base.datamodule:No normal test images found. Sampling from training set using a split ratio of 0.20\n"
     ]
    }
   ],
   "source": [
    "from anomalib.data import Folder\n",
    "\n",
    "datamodule = Folder(\n",
    "    name=\"custom_dataset\",\n",
    "    root=\"\",\n",
    "    normal_dir=\"/home/mmaddur1/Desktop/autoencoder_img/normal\",\n",
    "    abnormal_dir=\"/home/mmaddur1/Desktop/autoencoder_img/flip\",\n",
    "    task=\"classification\",  # or \"segmentation\" if you have mask images\n",
    "    image_size=(256, 256),\n",
    "    train_batch_size=32,\n",
    "    num_workers=2\n",
    ")\n",
    "\n",
    "datamodule.setup()"
   ]
  },
  {
   "cell_type": "code",
   "execution_count": 11,
   "metadata": {},
   "outputs": [
    {
     "name": "stdout",
     "output_type": "stream",
     "text": [
      "dict_keys(['image_path', 'label', 'image']) torch.Size([20, 3, 256, 256])\n"
     ]
    }
   ],
   "source": [
    "i, data = next(enumerate(datamodule.test_dataloader()))\n",
    "print(data.keys(), data[\"image\"].shape)"
   ]
  },
  {
   "cell_type": "code",
   "execution_count": null,
   "metadata": {},
   "outputs": [
    {
     "ename": "SyntaxError",
     "evalue": "invalid syntax (3357208049.py, line 2)",
     "output_type": "error",
     "traceback": [
      "\u001b[0;36m  Cell \u001b[0;32mIn[3], line 2\u001b[0;36m\u001b[0m\n\u001b[0;31m    pip install FrEIA\u001b[0m\n\u001b[0m        ^\u001b[0m\n\u001b[0;31mSyntaxError\u001b[0m\u001b[0;31m:\u001b[0m invalid syntax\n"
     ]
    }
   ],
   "source": [
    "# pip install einops\n",
    "# pip install FrEIA\n",
    "# pip install python-dotenv"
   ]
  },
  {
   "cell_type": "code",
   "execution_count": null,
   "metadata": {},
   "outputs": [
    {
     "name": "stdout",
     "output_type": "stream",
     "text": [
      "Collecting open-clip-torch\n",
      "  Downloading open_clip_torch-2.29.0-py3-none-any.whl.metadata (31 kB)\n",
      "Requirement already satisfied: torch>=1.9.0 in /home/mmaddur1/.local/lib/python3.12/site-packages (from open-clip-torch) (2.4.1)\n",
      "Requirement already satisfied: torchvision in /home/mmaddur1/.local/lib/python3.12/site-packages (from open-clip-torch) (0.19.1)\n",
      "Collecting regex (from open-clip-torch)\n",
      "  Downloading regex-2024.11.6-cp312-cp312-manylinux_2_17_x86_64.manylinux2014_x86_64.whl.metadata (40 kB)\n",
      "Collecting ftfy (from open-clip-torch)\n",
      "  Downloading ftfy-6.3.1-py3-none-any.whl.metadata (7.3 kB)\n",
      "Requirement already satisfied: tqdm in /home/mmaddur1/.conda/envs/test3/lib/python3.12/site-packages (from open-clip-torch) (4.66.5)\n",
      "Requirement already satisfied: huggingface-hub in /home/mmaddur1/.conda/envs/test3/lib/python3.12/site-packages (from open-clip-torch) (0.23.5)\n",
      "Requirement already satisfied: safetensors in /home/mmaddur1/.local/lib/python3.12/site-packages (from open-clip-torch) (0.4.5)\n",
      "Requirement already satisfied: timm in /home/mmaddur1/.local/lib/python3.12/site-packages (from open-clip-torch) (1.0.11)\n",
      "Requirement already satisfied: filelock in /home/mmaddur1/.local/lib/python3.12/site-packages (from torch>=1.9.0->open-clip-torch) (3.16.0)\n",
      "Requirement already satisfied: typing-extensions>=4.8.0 in /home/mmaddur1/.conda/envs/test3/lib/python3.12/site-packages (from torch>=1.9.0->open-clip-torch) (4.12.2)\n",
      "Requirement already satisfied: sympy in /home/mmaddur1/.conda/envs/test3/lib/python3.12/site-packages (from torch>=1.9.0->open-clip-torch) (1.13.2)\n",
      "Requirement already satisfied: networkx in /home/mmaddur1/.conda/envs/test3/lib/python3.12/site-packages (from torch>=1.9.0->open-clip-torch) (3.3)\n",
      "Requirement already satisfied: jinja2 in /home/mmaddur1/.conda/envs/test3/lib/python3.12/site-packages (from torch>=1.9.0->open-clip-torch) (3.1.4)\n",
      "Requirement already satisfied: fsspec in /home/mmaddur1/.conda/envs/test3/lib/python3.12/site-packages (from torch>=1.9.0->open-clip-torch) (2024.9.0)\n",
      "Requirement already satisfied: setuptools in /home/mmaddur1/.conda/envs/test3/lib/python3.12/site-packages (from torch>=1.9.0->open-clip-torch) (73.0.1)\n",
      "Requirement already satisfied: nvidia-cuda-nvrtc-cu12==12.1.105 in /home/mmaddur1/.local/lib/python3.12/site-packages (from torch>=1.9.0->open-clip-torch) (12.1.105)\n",
      "Requirement already satisfied: nvidia-cuda-runtime-cu12==12.1.105 in /home/mmaddur1/.local/lib/python3.12/site-packages (from torch>=1.9.0->open-clip-torch) (12.1.105)\n",
      "Requirement already satisfied: nvidia-cuda-cupti-cu12==12.1.105 in /home/mmaddur1/.local/lib/python3.12/site-packages (from torch>=1.9.0->open-clip-torch) (12.1.105)\n",
      "Requirement already satisfied: nvidia-cudnn-cu12==9.1.0.70 in /home/mmaddur1/.local/lib/python3.12/site-packages (from torch>=1.9.0->open-clip-torch) (9.1.0.70)\n",
      "Requirement already satisfied: nvidia-cublas-cu12==12.1.3.1 in /home/mmaddur1/.local/lib/python3.12/site-packages (from torch>=1.9.0->open-clip-torch) (12.1.3.1)\n",
      "Requirement already satisfied: nvidia-cufft-cu12==11.0.2.54 in /home/mmaddur1/.local/lib/python3.12/site-packages (from torch>=1.9.0->open-clip-torch) (11.0.2.54)\n",
      "Requirement already satisfied: nvidia-curand-cu12==10.3.2.106 in /home/mmaddur1/.local/lib/python3.12/site-packages (from torch>=1.9.0->open-clip-torch) (10.3.2.106)\n",
      "Requirement already satisfied: nvidia-cusolver-cu12==11.4.5.107 in /home/mmaddur1/.local/lib/python3.12/site-packages (from torch>=1.9.0->open-clip-torch) (11.4.5.107)\n",
      "Requirement already satisfied: nvidia-cusparse-cu12==12.1.0.106 in /home/mmaddur1/.local/lib/python3.12/site-packages (from torch>=1.9.0->open-clip-torch) (12.1.0.106)\n",
      "Requirement already satisfied: nvidia-nccl-cu12==2.20.5 in /home/mmaddur1/.local/lib/python3.12/site-packages (from torch>=1.9.0->open-clip-torch) (2.20.5)\n",
      "Requirement already satisfied: nvidia-nvtx-cu12==12.1.105 in /home/mmaddur1/.local/lib/python3.12/site-packages (from torch>=1.9.0->open-clip-torch) (12.1.105)\n",
      "Requirement already satisfied: triton==3.0.0 in /home/mmaddur1/.local/lib/python3.12/site-packages (from torch>=1.9.0->open-clip-torch) (3.0.0)\n",
      "Requirement already satisfied: nvidia-nvjitlink-cu12 in /home/mmaddur1/.local/lib/python3.12/site-packages (from nvidia-cusolver-cu12==11.4.5.107->torch>=1.9.0->open-clip-torch) (12.6.68)\n",
      "Requirement already satisfied: wcwidth in /home/mmaddur1/.conda/envs/test3/lib/python3.12/site-packages (from ftfy->open-clip-torch) (0.2.13)\n",
      "Requirement already satisfied: packaging>=20.9 in /home/mmaddur1/.conda/envs/test3/lib/python3.12/site-packages (from huggingface-hub->open-clip-torch) (24.1)\n",
      "Requirement already satisfied: pyyaml>=5.1 in /home/mmaddur1/.conda/envs/test3/lib/python3.12/site-packages (from huggingface-hub->open-clip-torch) (6.0.2)\n",
      "Requirement already satisfied: requests in /home/mmaddur1/.conda/envs/test3/lib/python3.12/site-packages (from huggingface-hub->open-clip-torch) (2.32.3)\n",
      "Requirement already satisfied: numpy in /home/mmaddur1/.conda/envs/test3/lib/python3.12/site-packages (from torchvision->open-clip-torch) (1.26.4)\n",
      "Requirement already satisfied: pillow!=8.3.*,>=5.3.0 in /home/mmaddur1/.conda/envs/test3/lib/python3.12/site-packages (from torchvision->open-clip-torch) (10.4.0)\n",
      "Requirement already satisfied: MarkupSafe>=2.0 in /home/mmaddur1/.conda/envs/test3/lib/python3.12/site-packages (from jinja2->torch>=1.9.0->open-clip-torch) (2.1.5)\n",
      "Requirement already satisfied: charset-normalizer<4,>=2 in /home/mmaddur1/.conda/envs/test3/lib/python3.12/site-packages (from requests->huggingface-hub->open-clip-torch) (3.3.2)\n",
      "Requirement already satisfied: idna<4,>=2.5 in /home/mmaddur1/.conda/envs/test3/lib/python3.12/site-packages (from requests->huggingface-hub->open-clip-torch) (3.8)\n",
      "Requirement already satisfied: urllib3<3,>=1.21.1 in /home/mmaddur1/.conda/envs/test3/lib/python3.12/site-packages (from requests->huggingface-hub->open-clip-torch) (2.2.3)\n",
      "Requirement already satisfied: certifi>=2017.4.17 in /home/mmaddur1/.conda/envs/test3/lib/python3.12/site-packages (from requests->huggingface-hub->open-clip-torch) (2024.8.30)\n",
      "Requirement already satisfied: mpmath<1.4,>=1.1.0 in /home/mmaddur1/.conda/envs/test3/lib/python3.12/site-packages (from sympy->torch>=1.9.0->open-clip-torch) (1.3.0)\n",
      "Downloading open_clip_torch-2.29.0-py3-none-any.whl (1.5 MB)\n",
      "\u001b[2K   \u001b[90m━━━━━━━━━━━━━━━━━━━━━━━━━━━━━━━━━━━━━━━━\u001b[0m \u001b[32m1.5/1.5 MB\u001b[0m \u001b[31m54.0 MB/s\u001b[0m eta \u001b[36m0:00:00\u001b[0m\n",
      "\u001b[?25hDownloading ftfy-6.3.1-py3-none-any.whl (44 kB)\n",
      "Downloading regex-2024.11.6-cp312-cp312-manylinux_2_17_x86_64.manylinux2014_x86_64.whl (796 kB)\n",
      "\u001b[2K   \u001b[90m━━━━━━━━━━━━━━━━━━━━━━━━━━━━━━━━━━━━━━━━\u001b[0m \u001b[32m796.9/796.9 kB\u001b[0m \u001b[31m34.6 MB/s\u001b[0m eta \u001b[36m0:00:00\u001b[0m\n",
      "\u001b[?25hInstalling collected packages: regex, ftfy, open-clip-torch\n",
      "Successfully installed ftfy-6.3.1 open-clip-torch-2.29.0 regex-2024.11.6\n",
      "Note: you may need to restart the kernel to use updated packages.\n"
     ]
    }
   ],
   "source": [
    "# pip install open-clip-torch\n"
   ]
  },
  {
   "cell_type": "code",
   "execution_count": 8,
   "metadata": {},
   "outputs": [
    {
     "name": "stderr",
     "output_type": "stream",
     "text": [
      "INFO:anomalib.models.components.base.anomaly_module:Initializing Patchcore model.\n",
      "INFO:timm.models._builder:Loading pretrained weights from Hugging Face hub (timm/resnet50.a1_in1k)\n",
      "INFO:timm.models._hub:[timm/resnet50.a1_in1k] Safe alternative available for 'pytorch_model.bin' (as 'model.safetensors'). Loading weights using safetensors.\n",
      "INFO:timm.models._builder:Missing keys (fc.weight, fc.bias) discovered while loading pretrained weights. This is expected if model is being adapted.\n"
     ]
    }
   ],
   "source": [
    "from anomalib.models import Patchcore\n",
    "\n",
    "model = Patchcore(\n",
    "    backbone=\"resnet50\",\n",
    "    layers=[\"layer1\", \"layer2\", \"layer3\"]\n",
    ")"
   ]
  },
  {
   "cell_type": "code",
   "execution_count": 9,
   "metadata": {},
   "outputs": [
    {
     "name": "stderr",
     "output_type": "stream",
     "text": [
      "GPU available: True (cuda), used: True\n",
      "TPU available: False, using: 0 TPU cores\n",
      "HPU available: False, using: 0 HPUs\n",
      "WARNING:anomalib.metrics.f1_score:F1Score class exists for backwards compatibility. It will be removed in v1.1. Please use BinaryF1Score from torchmetrics instead\n",
      "LOCAL_RANK: 0 - CUDA_VISIBLE_DEVICES: [0]\n",
      "\n",
      "  | Name                  | Type                     | Params | Mode \n",
      "---------------------------------------------------------------------------\n",
      "0 | model                 | PatchcoreModel           | 8.5 M  | train\n",
      "1 | _transform            | Compose                  | 0      | train\n",
      "2 | normalization_metrics | MetricCollection         | 0      | train\n",
      "3 | image_threshold       | F1AdaptiveThreshold      | 0      | train\n",
      "4 | pixel_threshold       | F1AdaptiveThreshold      | 0      | train\n",
      "5 | image_metrics         | AnomalibMetricCollection | 0      | train\n",
      "6 | pixel_metrics         | AnomalibMetricCollection | 0      | train\n",
      "---------------------------------------------------------------------------\n",
      "8.5 M     Trainable params\n",
      "0         Non-trainable params\n",
      "8.5 M     Total params\n",
      "34.173    Total estimated model params size (MB)\n",
      "15        Modules in train mode\n",
      "174       Modules in eval mode\n",
      "SLURM auto-requeueing enabled. Setting signal handlers.\n"
     ]
    },
    {
     "name": "stdout",
     "output_type": "stream",
     "text": [
      "Epoch 0: 100%|██████████| 1/1 [00:00<00:00,  1.93it/s]"
     ]
    },
    {
     "name": "stderr",
     "output_type": "stream",
     "text": [
      "INFO:anomalib.models.image.patchcore.lightning_model:Aggregating the embedding extracted from the training set.\n",
      "INFO:anomalib.models.image.patchcore.lightning_model:Applying core-set subsampling to get the embedding.\n",
      "\n",
      "\u001b[A\n",
      "\u001b[A\n",
      "\u001b[A\n",
      "\u001b[A\n",
      "\u001b[A\n",
      "\u001b[A\n",
      "\u001b[A\n",
      "\u001b[A\n",
      "\u001b[A\n",
      "\u001b[A\n",
      "\u001b[A\n",
      "\u001b[A\n",
      "\u001b[A\n",
      "\u001b[A\n",
      "\u001b[A\n",
      "\u001b[A\n",
      "\u001b[A\n",
      "\u001b[A\n",
      "Selecting Coreset Indices.: 100%|██████████| 7526/7526 [00:01<00:00, 4076.10it/s]"
     ]
    },
    {
     "name": "stdout",
     "output_type": "stream",
     "text": []
    },
    {
     "name": "stderr",
     "output_type": "stream",
     "text": [
      "\n"
     ]
    },
    {
     "name": "stdout",
     "output_type": "stream",
     "text": [
      "Epoch 0: 100%|██████████| 1/1 [00:03<00:00,  0.31it/s, image_AUROC=0.500, image_F1Score=0.919]"
     ]
    },
    {
     "name": "stderr",
     "output_type": "stream",
     "text": [
      "`Trainer.fit` stopped: `max_epochs=1` reached.\n"
     ]
    },
    {
     "name": "stdout",
     "output_type": "stream",
     "text": [
      "Epoch 0: 100%|██████████| 1/1 [00:03<00:00,  0.27it/s, image_AUROC=0.500, image_F1Score=0.919]"
     ]
    },
    {
     "name": "stderr",
     "output_type": "stream",
     "text": [
      "INFO:anomalib.callbacks.timer:Training took  4.45 seconds\n",
      "WARNING:anomalib.metrics.f1_score:F1Score class exists for backwards compatibility. It will be removed in v1.1. Please use BinaryF1Score from torchmetrics instead\n",
      "LOCAL_RANK: 0 - CUDA_VISIBLE_DEVICES: [0]\n",
      "SLURM auto-requeueing enabled. Setting signal handlers.\n"
     ]
    },
    {
     "name": "stdout",
     "output_type": "stream",
     "text": [
      "\n",
      "Testing DataLoader 0: 100%|██████████| 1/1 [00:02<00:00,  0.40it/s]"
     ]
    },
    {
     "name": "stderr",
     "output_type": "stream",
     "text": [
      "INFO:anomalib.callbacks.timer:Testing took 2.6575231552124023 seconds\n",
      "Throughput (batch_size=32) : 7.525804605228925 FPS\n"
     ]
    },
    {
     "name": "stdout",
     "output_type": "stream",
     "text": [
      "Testing DataLoader 0: 100%|██████████| 1/1 [00:02<00:00,  0.40it/s]\n"
     ]
    },
    {
     "data": {
      "text/html": [
       "<pre style=\"white-space:pre;overflow-x:auto;line-height:normal;font-family:Menlo,'DejaVu Sans Mono',consolas,'Courier New',monospace\">┏━━━━━━━━━━━━━━━━━━━━━━━━━━━┳━━━━━━━━━━━━━━━━━━━━━━━━━━━┓\n",
       "┃<span style=\"font-weight: bold\">        Test metric        </span>┃<span style=\"font-weight: bold\">       DataLoader 0        </span>┃\n",
       "┡━━━━━━━━━━━━━━━━━━━━━━━━━━━╇━━━━━━━━━━━━━━━━━━━━━━━━━━━┩\n",
       "│<span style=\"color: #008080; text-decoration-color: #008080\">        image_AUROC        </span>│<span style=\"color: #800080; text-decoration-color: #800080\">    0.7254902124404907     </span>│\n",
       "│<span style=\"color: #008080; text-decoration-color: #008080\">       image_F1Score       </span>│<span style=\"color: #800080; text-decoration-color: #800080\">    0.9189189076423645     </span>│\n",
       "└───────────────────────────┴───────────────────────────┘\n",
       "</pre>\n"
      ],
      "text/plain": [
       "┏━━━━━━━━━━━━━━━━━━━━━━━━━━━┳━━━━━━━━━━━━━━━━━━━━━━━━━━━┓\n",
       "┃\u001b[1m \u001b[0m\u001b[1m       Test metric       \u001b[0m\u001b[1m \u001b[0m┃\u001b[1m \u001b[0m\u001b[1m      DataLoader 0       \u001b[0m\u001b[1m \u001b[0m┃\n",
       "┡━━━━━━━━━━━━━━━━━━━━━━━━━━━╇━━━━━━━━━━━━━━━━━━━━━━━━━━━┩\n",
       "│\u001b[36m \u001b[0m\u001b[36m       image_AUROC       \u001b[0m\u001b[36m \u001b[0m│\u001b[35m \u001b[0m\u001b[35m   0.7254902124404907    \u001b[0m\u001b[35m \u001b[0m│\n",
       "│\u001b[36m \u001b[0m\u001b[36m      image_F1Score      \u001b[0m\u001b[36m \u001b[0m│\u001b[35m \u001b[0m\u001b[35m   0.9189189076423645    \u001b[0m\u001b[35m \u001b[0m│\n",
       "└───────────────────────────┴───────────────────────────┘\n"
      ]
     },
     "metadata": {},
     "output_type": "display_data"
    }
   ],
   "source": [
    "from anomalib.engine import Engine\n",
    "\n",
    "engine = Engine(task=\"classification\")  # or \"segmentation\" if applicable\n",
    "engine.train(datamodule=datamodule, model=model)"
   ]
  },
  {
   "cell_type": "code",
   "execution_count": 7,
   "metadata": {},
   "outputs": [
    {
     "name": "stderr",
     "output_type": "stream",
     "text": [
      "WARNING:anomalib.engine.engine:ckpt_path is not provided. Model weights will not be loaded.\n",
      "WARNING:anomalib.metrics.f1_score:F1Score class exists for backwards compatibility. It will be removed in v1.1. Please use BinaryF1Score from torchmetrics instead\n",
      "LOCAL_RANK: 0 - CUDA_VISIBLE_DEVICES: [0]\n",
      "SLURM auto-requeueing enabled. Setting signal handlers.\n"
     ]
    },
    {
     "name": "stdout",
     "output_type": "stream",
     "text": [
      "Predicting DataLoader 0: 100%|██████████| 1/1 [00:01<00:00,  0.57it/s]\n"
     ]
    }
   ],
   "source": [
    "results = engine.predict(datamodule=datamodule, model=model)"
   ]
  },
  {
   "cell_type": "code",
   "execution_count": 10,
   "metadata": {},
   "outputs": [
    {
     "name": "stdout",
     "output_type": "stream",
     "text": [
      "[{'image_path': ['/home/mmaddur1/Desktop/autoencoder_img/flip/case232.tif', '/home/mmaddur1/Desktop/autoencoder_img/flip/case233.bmp', '/home/mmaddur1/Desktop/autoencoder_img/flip/case234.bmp', '/home/mmaddur1/Desktop/autoencoder_img/flip/case234.tif', '/home/mmaddur1/Desktop/autoencoder_img/flip/case235.bmp', '/home/mmaddur1/Desktop/autoencoder_img/flip/case237.bmp', '/home/mmaddur1/Desktop/autoencoder_img/flip/case237.tif', '/home/mmaddur1/Desktop/autoencoder_img/flip/case238.bmp', '/home/mmaddur1/Desktop/autoencoder_img/flip/case239.bmp', '/home/mmaddur1/Desktop/autoencoder_img/flip/case239.tif', '/home/mmaddur1/Desktop/autoencoder_img/flip/case241.bmp', '/home/mmaddur1/Desktop/autoencoder_img/flip/case242.bmp', '/home/mmaddur1/Desktop/autoencoder_img/flip/case243.tif', '/home/mmaddur1/Desktop/autoencoder_img/flip/case244.tif', '/home/mmaddur1/Desktop/autoencoder_img/flip/case245.tif', '/home/mmaddur1/Desktop/autoencoder_img/flip/case246.tif', '/home/mmaddur1/Desktop/autoencoder_img/flip/case247.tif', '/home/mmaddur1/Desktop/autoencoder_img/normal/case214.bmp', '/home/mmaddur1/Desktop/autoencoder_img/normal/case215.bmp', '/home/mmaddur1/Desktop/autoencoder_img/normal/case229.bmp'], 'label': tensor([1, 1, 1, 1, 1, 1, 1, 1, 1, 1, 1, 1, 1, 1, 1, 1, 1, 0, 0, 0]), 'image': tensor([[[[-1.1418, -1.1075, -1.1247,  ..., -0.0629, -0.0116,  0.0569],\n",
      "          [-1.1247, -1.1589, -1.1932,  ..., -0.2171, -0.1657, -0.0801],\n",
      "          [-1.2445, -1.2103, -1.2274,  ..., -0.2684, -0.2342, -0.1999],\n",
      "          ...,\n",
      "          [-0.1657, -0.3027, -0.4739,  ...,  0.8961,  0.8789,  0.8961],\n",
      "          [-0.1486, -0.3027, -0.4226,  ...,  0.8789,  0.8961,  0.8961],\n",
      "          [-0.1314, -0.2684, -0.3883,  ...,  0.8789,  0.8961,  0.8789]],\n",
      "\n",
      "         [[-1.0378, -1.0028, -1.0203,  ...,  0.0651,  0.1176,  0.1877],\n",
      "          [-1.0203, -1.0553, -1.0903,  ..., -0.0924, -0.0399,  0.0476],\n",
      "          [-1.1429, -1.1078, -1.1253,  ..., -0.1450, -0.1099, -0.0749],\n",
      "          ...,\n",
      "          [-0.0399, -0.1800, -0.3550,  ...,  1.0455,  1.0280,  1.0455],\n",
      "          [-0.0224, -0.1800, -0.3025,  ...,  1.0280,  1.0455,  1.0455],\n",
      "          [-0.0049, -0.1450, -0.2675,  ...,  1.0280,  1.0455,  1.0280]],\n",
      "\n",
      "         [[-0.8110, -0.7761, -0.7936,  ...,  0.2871,  0.3393,  0.4091],\n",
      "          [-0.7936, -0.8284, -0.8633,  ...,  0.1302,  0.1825,  0.2696],\n",
      "          [-0.9156, -0.8807, -0.8981,  ...,  0.0779,  0.1128,  0.1476],\n",
      "          ...,\n",
      "          [ 0.1825,  0.0431, -0.1312,  ...,  1.2631,  1.2457,  1.2631],\n",
      "          [ 0.1999,  0.0431, -0.0790,  ...,  1.2457,  1.2631,  1.2631],\n",
      "          [ 0.2173,  0.0779, -0.0441,  ...,  1.2457,  1.2631,  1.2457]]],\n",
      "\n",
      "\n",
      "        [[[-1.2274, -1.2617, -1.2445,  ..., -0.8849, -0.9020, -0.7993],\n",
      "          [-1.2617, -1.2617, -1.2788,  ..., -0.9363, -0.9705, -0.9534],\n",
      "          [-1.2788, -1.2617, -1.3130,  ..., -1.0048, -1.0219, -1.0562],\n",
      "          ...,\n",
      "          [-1.5014, -1.5528, -1.5357,  ..., -0.9705, -1.0562, -0.9020],\n",
      "          [-1.5185, -1.5528, -1.5699,  ..., -1.0048, -1.0390, -0.8164],\n",
      "          [-1.5185, -1.5528, -1.5528,  ..., -1.0048, -1.0390, -0.8678]],\n",
      "\n",
      "         [[-1.1253, -1.1604, -1.1429,  ..., -0.7752, -0.7927, -0.6877],\n",
      "          [-1.1604, -1.1604, -1.1779,  ..., -0.8277, -0.8627, -0.8452],\n",
      "          [-1.1779, -1.1604, -1.2129,  ..., -0.8978, -0.9153, -0.9503],\n",
      "          ...,\n",
      "          [-1.4055, -1.4580, -1.4405,  ..., -0.8627, -0.9503, -0.7927],\n",
      "          [-1.4230, -1.4580, -1.4755,  ..., -0.8978, -0.9328, -0.7052],\n",
      "          [-1.4230, -1.4580, -1.4580,  ..., -0.8978, -0.9328, -0.7577]],\n",
      "\n",
      "         [[-0.8981, -0.9330, -0.9156,  ..., -0.5495, -0.5670, -0.4624],\n",
      "          [-0.9330, -0.9330, -0.9504,  ..., -0.6018, -0.6367, -0.6193],\n",
      "          [-0.9504, -0.9330, -0.9853,  ..., -0.6715, -0.6890, -0.7238],\n",
      "          ...,\n",
      "          [-1.1770, -1.2293, -1.2119,  ..., -0.6367, -0.7238, -0.5670],\n",
      "          [-1.1944, -1.2293, -1.2467,  ..., -0.6715, -0.7064, -0.4798],\n",
      "          [-1.1944, -1.2293, -1.2293,  ..., -0.6715, -0.7064, -0.5321]]],\n",
      "\n",
      "\n",
      "        [[[-0.6623, -0.6965, -0.7479,  ..., -1.0904, -1.1075, -1.0562],\n",
      "          [-0.7308, -0.8335, -0.8507,  ..., -1.0562, -1.0562, -1.0904],\n",
      "          [-0.9363, -0.9705, -0.9705,  ..., -1.0562, -1.0390, -1.0562],\n",
      "          ...,\n",
      "          [-1.3473, -1.3815, -1.4672,  ..., -1.0219, -0.9192, -0.8164],\n",
      "          [-1.3644, -1.4158, -1.4672,  ..., -1.0733, -0.9705, -0.8678],\n",
      "          [-1.3987, -1.4329, -1.4843,  ..., -1.0562, -0.9877, -0.9020]],\n",
      "\n",
      "         [[-0.5476, -0.5826, -0.6352,  ..., -0.9853, -1.0028, -0.9503],\n",
      "          [-0.6176, -0.7227, -0.7402,  ..., -0.9503, -0.9503, -0.9853],\n",
      "          [-0.8277, -0.8627, -0.8627,  ..., -0.9503, -0.9328, -0.9503],\n",
      "          ...,\n",
      "          [-1.2479, -1.2829, -1.3704,  ..., -0.9153, -0.8102, -0.7052],\n",
      "          [-1.2654, -1.3179, -1.3704,  ..., -0.9678, -0.8627, -0.7577],\n",
      "          [-1.3004, -1.3354, -1.3880,  ..., -0.9503, -0.8803, -0.7927]],\n",
      "\n",
      "         [[-0.3230, -0.3578, -0.4101,  ..., -0.7587, -0.7761, -0.7238],\n",
      "          [-0.3927, -0.4973, -0.5147,  ..., -0.7238, -0.7238, -0.7587],\n",
      "          [-0.6018, -0.6367, -0.6367,  ..., -0.7238, -0.7064, -0.7238],\n",
      "          ...,\n",
      "          [-1.0201, -1.0550, -1.1421,  ..., -0.6890, -0.5844, -0.4798],\n",
      "          [-1.0376, -1.0898, -1.1421,  ..., -0.7413, -0.6367, -0.5321],\n",
      "          [-1.0724, -1.1073, -1.1596,  ..., -0.7238, -0.6541, -0.5670]]],\n",
      "\n",
      "\n",
      "        ...,\n",
      "\n",
      "\n",
      "        [[[-1.2274, -1.2103, -1.1932,  ..., -0.6965, -0.6281, -0.5767],\n",
      "          [-1.2274, -1.2274, -1.1760,  ..., -0.7137, -0.7137, -0.6281],\n",
      "          [-1.2274, -1.2274, -1.2274,  ..., -0.8507, -0.7479, -0.6281],\n",
      "          ...,\n",
      "          [-1.7754, -1.7925, -1.7925,  ..., -1.4672, -1.3473, -1.2617],\n",
      "          [-1.7754, -1.7754, -1.7925,  ..., -1.4672, -1.3302, -1.2617],\n",
      "          [-1.7925, -1.7754, -1.7925,  ..., -1.4500, -1.2959, -1.2788]],\n",
      "\n",
      "         [[-1.1253, -1.1078, -1.0903,  ..., -0.5826, -0.5126, -0.4601],\n",
      "          [-1.1253, -1.1253, -1.0728,  ..., -0.6001, -0.6001, -0.5126],\n",
      "          [-1.1253, -1.1253, -1.1253,  ..., -0.7402, -0.6352, -0.5126],\n",
      "          ...,\n",
      "          [-1.6856, -1.7031, -1.7031,  ..., -1.3704, -1.2479, -1.1604],\n",
      "          [-1.6856, -1.6856, -1.7031,  ..., -1.3704, -1.2304, -1.1604],\n",
      "          [-1.7031, -1.6856, -1.7031,  ..., -1.3529, -1.1954, -1.1779]],\n",
      "\n",
      "         [[-0.8981, -0.8807, -0.8633,  ..., -0.3578, -0.2881, -0.2358],\n",
      "          [-0.8981, -0.8981, -0.8458,  ..., -0.3753, -0.3753, -0.2881],\n",
      "          [-0.8981, -0.8981, -0.8981,  ..., -0.5147, -0.4101, -0.2881],\n",
      "          ...,\n",
      "          [-1.4559, -1.4733, -1.4733,  ..., -1.1421, -1.0201, -0.9330],\n",
      "          [-1.4559, -1.4559, -1.4733,  ..., -1.1421, -1.0027, -0.9330],\n",
      "          [-1.4733, -1.4559, -1.4733,  ..., -1.1247, -0.9678, -0.9504]]],\n",
      "\n",
      "\n",
      "        [[[ 0.2453,  0.3309,  0.3138,  ..., -0.3883, -0.4397, -0.4911],\n",
      "          [ 0.1254,  0.1426,  0.1939,  ..., -0.5253, -0.5596, -0.5596],\n",
      "          [-0.0116,  0.0398, -0.0116,  ..., -0.7993, -0.7993, -0.8678],\n",
      "          ...,\n",
      "          [ 1.3584,  1.3584,  0.7077,  ..., -0.4397, -0.3027, -0.0972],\n",
      "          [ 1.3755,  1.3584,  1.1187,  ..., -0.4568, -0.2684, -0.0972],\n",
      "          [ 1.3755,  1.3584,  1.2899,  ..., -0.4054, -0.2684, -0.0629]],\n",
      "\n",
      "         [[ 0.3803,  0.4678,  0.4503,  ..., -0.2675, -0.3200, -0.3725],\n",
      "          [ 0.2577,  0.2752,  0.3277,  ..., -0.4076, -0.4426, -0.4426],\n",
      "          [ 0.1176,  0.1702,  0.1176,  ..., -0.6877, -0.6877, -0.7577],\n",
      "          ...,\n",
      "          [ 1.5182,  1.5182,  0.8529,  ..., -0.3200, -0.1800,  0.0301],\n",
      "          [ 1.5357,  1.5182,  1.2731,  ..., -0.3375, -0.1450,  0.0301],\n",
      "          [ 1.5357,  1.5182,  1.4482,  ..., -0.2850, -0.1450,  0.0651]],\n",
      "\n",
      "         [[ 0.6008,  0.6879,  0.6705,  ..., -0.0441, -0.0964, -0.1487],\n",
      "          [ 0.4788,  0.4962,  0.5485,  ..., -0.1835, -0.2184, -0.2184],\n",
      "          [ 0.3393,  0.3916,  0.3393,  ..., -0.4624, -0.4624, -0.5321],\n",
      "          ...,\n",
      "          [ 1.7337,  1.7337,  1.0714,  ..., -0.0964,  0.0431,  0.2522],\n",
      "          [ 1.7511,  1.7337,  1.4897,  ..., -0.1138,  0.0779,  0.2522],\n",
      "          [ 1.7511,  1.7337,  1.6640,  ..., -0.0615,  0.0779,  0.2871]]],\n",
      "\n",
      "\n",
      "        [[[-1.0562, -1.0048, -1.0390,  ..., -0.9363, -0.9534, -0.8849],\n",
      "          [-1.1075, -1.1075, -1.1247,  ..., -0.9020, -0.9020, -0.9020],\n",
      "          [-1.1760, -1.1932, -1.1589,  ..., -0.9705, -0.9705, -0.9534],\n",
      "          ...,\n",
      "          [ 0.5878,  0.5707,  0.5878,  ...,  0.4679,  0.4851,  0.4851],\n",
      "          [ 0.6049,  0.5878,  0.5707,  ...,  0.5022,  0.4851,  0.4851],\n",
      "          [ 0.5707,  0.5878,  0.5707,  ...,  0.4851,  0.5022,  0.4851]],\n",
      "\n",
      "         [[-0.9503, -0.8978, -0.9328,  ..., -0.8277, -0.8452, -0.7752],\n",
      "          [-1.0028, -1.0028, -1.0203,  ..., -0.7927, -0.7927, -0.7927],\n",
      "          [-1.0728, -1.0903, -1.0553,  ..., -0.8627, -0.8627, -0.8452],\n",
      "          ...,\n",
      "          [ 0.7304,  0.7129,  0.7304,  ...,  0.6078,  0.6254,  0.6254],\n",
      "          [ 0.7479,  0.7304,  0.7129,  ...,  0.6429,  0.6254,  0.6254],\n",
      "          [ 0.7129,  0.7304,  0.7129,  ...,  0.6254,  0.6429,  0.6254]],\n",
      "\n",
      "         [[-0.7238, -0.6715, -0.7064,  ..., -0.6018, -0.6193, -0.5495],\n",
      "          [-0.7761, -0.7761, -0.7936,  ..., -0.5670, -0.5670, -0.5670],\n",
      "          [-0.8458, -0.8633, -0.8284,  ..., -0.6367, -0.6367, -0.6193],\n",
      "          ...,\n",
      "          [ 0.9494,  0.9319,  0.9494,  ...,  0.8274,  0.8448,  0.8448],\n",
      "          [ 0.9668,  0.9494,  0.9319,  ...,  0.8622,  0.8448,  0.8448],\n",
      "          [ 0.9319,  0.9494,  0.9319,  ...,  0.8448,  0.8622,  0.8448]]]]), 'anomaly_maps': tensor([[[[0.1583, 0.1599, 0.1644,  ..., 0.1138, 0.1087, 0.1070],\n",
      "          [0.1596, 0.1612, 0.1656,  ..., 0.1152, 0.1101, 0.1084],\n",
      "          [0.1633, 0.1647, 0.1689,  ..., 0.1192, 0.1141, 0.1124],\n",
      "          ...,\n",
      "          [0.0000, 0.0000, 0.0000,  ..., 0.0000, 0.0000, 0.0000],\n",
      "          [0.0000, 0.0000, 0.0000,  ..., 0.0000, 0.0000, 0.0000],\n",
      "          [0.0000, 0.0000, 0.0000,  ..., 0.0000, 0.0000, 0.0000]]],\n",
      "\n",
      "\n",
      "        [[[0.1560, 0.1584, 0.1652,  ..., 0.1714, 0.1655, 0.1634],\n",
      "          [0.1574, 0.1597, 0.1666,  ..., 0.1721, 0.1661, 0.1640],\n",
      "          [0.1613, 0.1636, 0.1705,  ..., 0.1740, 0.1678, 0.1657],\n",
      "          ...,\n",
      "          [0.0000, 0.0000, 0.0008,  ..., 0.2468, 0.2394, 0.2368],\n",
      "          [0.0000, 0.0000, 0.0000,  ..., 0.2398, 0.2325, 0.2300],\n",
      "          [0.0000, 0.0000, 0.0000,  ..., 0.2374, 0.2302, 0.2277]]],\n",
      "\n",
      "\n",
      "        [[[0.1192, 0.1213, 0.1271,  ..., 0.0935, 0.0884, 0.0867],\n",
      "          [0.1207, 0.1228, 0.1285,  ..., 0.0944, 0.0894, 0.0876],\n",
      "          [0.1250, 0.1269, 0.1324,  ..., 0.0973, 0.0922, 0.0905],\n",
      "          ...,\n",
      "          [0.1344, 0.1331, 0.1292,  ..., 0.0827, 0.0829, 0.0830],\n",
      "          [0.1375, 0.1360, 0.1315,  ..., 0.0867, 0.0871, 0.0872],\n",
      "          [0.1386, 0.1370, 0.1324,  ..., 0.0881, 0.0886, 0.0887]]],\n",
      "\n",
      "\n",
      "        ...,\n",
      "\n",
      "\n",
      "        [[[0.1552, 0.1574, 0.1638,  ..., 0.2947, 0.2898, 0.2880],\n",
      "          [0.1561, 0.1583, 0.1646,  ..., 0.2968, 0.2918, 0.2901],\n",
      "          [0.1585, 0.1607, 0.1669,  ..., 0.3029, 0.2978, 0.2961],\n",
      "          ...,\n",
      "          [0.0000, 0.0000, 0.0000,  ..., 0.2593, 0.2547, 0.2531],\n",
      "          [0.0000, 0.0000, 0.0000,  ..., 0.2552, 0.2503, 0.2486],\n",
      "          [0.0000, 0.0000, 0.0000,  ..., 0.2537, 0.2488, 0.2471]]],\n",
      "\n",
      "\n",
      "        [[[0.2335, 0.2349, 0.2392,  ..., 0.1489, 0.1429, 0.1409],\n",
      "          [0.2342, 0.2357, 0.2400,  ..., 0.1505, 0.1444, 0.1424],\n",
      "          [0.2365, 0.2380, 0.2424,  ..., 0.1549, 0.1488, 0.1467],\n",
      "          ...,\n",
      "          [0.0921, 0.0916, 0.0903,  ..., 0.0881, 0.0859, 0.0852],\n",
      "          [0.0903, 0.0897, 0.0880,  ..., 0.0824, 0.0803, 0.0796],\n",
      "          [0.0897, 0.0891, 0.0873,  ..., 0.0804, 0.0784, 0.0776]]],\n",
      "\n",
      "\n",
      "        [[[0.1771, 0.1787, 0.1836,  ..., 0.1315, 0.1269, 0.1253],\n",
      "          [0.1783, 0.1800, 0.1849,  ..., 0.1324, 0.1278, 0.1262],\n",
      "          [0.1818, 0.1835, 0.1884,  ..., 0.1350, 0.1304, 0.1288],\n",
      "          ...,\n",
      "          [0.0000, 0.0000, 0.0000,  ..., 0.1523, 0.1477, 0.1461],\n",
      "          [0.0000, 0.0000, 0.0000,  ..., 0.1460, 0.1413, 0.1397],\n",
      "          [0.0000, 0.0000, 0.0000,  ..., 0.1438, 0.1391, 0.1375]]]]), 'pred_scores': tensor([1.0000, 1.0000, 0.6047, 0.6622, 0.9811, 1.0000, 1.0000, 0.6598, 1.0000,\n",
      "        1.0000, 0.8633, 0.8890, 0.6501, 0.9901, 0.8726, 0.8233, 1.0000, 1.0000,\n",
      "        0.7566, 0.8430]), 'pred_labels': tensor([True, True, True, True, True, True, True, True, True, True, True, True,\n",
      "        True, True, True, True, True, True, True, True]), 'pred_masks': tensor([[[[False, False, False,  ..., False, False, False],\n",
      "          [False, False, False,  ..., False, False, False],\n",
      "          [False, False, False,  ..., False, False, False],\n",
      "          ...,\n",
      "          [False, False, False,  ..., False, False, False],\n",
      "          [False, False, False,  ..., False, False, False],\n",
      "          [False, False, False,  ..., False, False, False]]],\n",
      "\n",
      "\n",
      "        [[[False, False, False,  ..., False, False, False],\n",
      "          [False, False, False,  ..., False, False, False],\n",
      "          [False, False, False,  ..., False, False, False],\n",
      "          ...,\n",
      "          [False, False, False,  ..., False, False, False],\n",
      "          [False, False, False,  ..., False, False, False],\n",
      "          [False, False, False,  ..., False, False, False]]],\n",
      "\n",
      "\n",
      "        [[[False, False, False,  ..., False, False, False],\n",
      "          [False, False, False,  ..., False, False, False],\n",
      "          [False, False, False,  ..., False, False, False],\n",
      "          ...,\n",
      "          [False, False, False,  ..., False, False, False],\n",
      "          [False, False, False,  ..., False, False, False],\n",
      "          [False, False, False,  ..., False, False, False]]],\n",
      "\n",
      "\n",
      "        ...,\n",
      "\n",
      "\n",
      "        [[[False, False, False,  ..., False, False, False],\n",
      "          [False, False, False,  ..., False, False, False],\n",
      "          [False, False, False,  ..., False, False, False],\n",
      "          ...,\n",
      "          [False, False, False,  ..., False, False, False],\n",
      "          [False, False, False,  ..., False, False, False],\n",
      "          [False, False, False,  ..., False, False, False]]],\n",
      "\n",
      "\n",
      "        [[[False, False, False,  ..., False, False, False],\n",
      "          [False, False, False,  ..., False, False, False],\n",
      "          [False, False, False,  ..., False, False, False],\n",
      "          ...,\n",
      "          [False, False, False,  ..., False, False, False],\n",
      "          [False, False, False,  ..., False, False, False],\n",
      "          [False, False, False,  ..., False, False, False]]],\n",
      "\n",
      "\n",
      "        [[[False, False, False,  ..., False, False, False],\n",
      "          [False, False, False,  ..., False, False, False],\n",
      "          [False, False, False,  ..., False, False, False],\n",
      "          ...,\n",
      "          [False, False, False,  ..., False, False, False],\n",
      "          [False, False, False,  ..., False, False, False],\n",
      "          [False, False, False,  ..., False, False, False]]]]), 'pred_boxes': [tensor([[191.,  20., 203.,  29.],\n",
      "        [ 77.,  41.,  81.,  45.],\n",
      "        [ 23., 148.,  62., 195.]]), tensor([[  6., 170.,  38., 192.],\n",
      "        [189., 184., 213., 213.],\n",
      "        [133., 199., 162., 223.]]), tensor([[186.,  18., 187.,  19.]]), tensor([[82., 42., 92., 54.]]), tensor([[ 71.,  22.,  73.,  23.],\n",
      "        [179.,   8., 211.,  29.],\n",
      "        [173., 161., 211., 204.]]), tensor([[167., 160., 212., 214.]]), tensor([[ 48.,  44.,  75.,  77.],\n",
      "        [195., 134., 201., 140.],\n",
      "        [ 20., 161.,  60., 213.]]), tensor([[136.,  28., 142.,  36.]]), tensor([[  9.,   0.,  55.,  37.],\n",
      "        [167.,   0., 218.,  67.],\n",
      "        [  0., 109.,  13., 131.],\n",
      "        [  0., 178.,  63., 223.],\n",
      "        [ 81., 215.,  89., 223.],\n",
      "        [141., 195., 217., 223.]]), tensor([[166.,   5., 196.,  34.],\n",
      "        [ 11.,   0.,  36.,  45.],\n",
      "        [ 55.,  46.,  89.,  79.],\n",
      "        [  5., 190.,  87., 223.],\n",
      "        [168., 186., 216., 223.]]), tensor([[15., 13., 39., 32.]]), tensor([[204.,  10., 211.,  21.],\n",
      "        [190., 164., 217., 199.]]), tensor([[214., 204., 215., 206.]]), tensor([[187.,  13., 211.,  36.],\n",
      "        [ 70.,  31.,  88.,  52.],\n",
      "        [ 39., 142.,  68., 171.],\n",
      "        [ 17., 181.,  29., 197.]]), tensor([[152., 166., 203., 207.],\n",
      "        [ 10., 164.,  67., 216.]]), tensor([[188.,   1., 205.,  13.],\n",
      "        [138., 100., 151., 114.],\n",
      "        [ 39., 101.,  74., 155.]]), tensor([[ 10.,   0.,  27.,  16.],\n",
      "        [ 29., 116.,  64., 160.],\n",
      "        [195., 183., 201., 192.]]), tensor([[200.,   8., 214.,  19.],\n",
      "        [197., 204., 210., 212.],\n",
      "        [101., 215., 108., 223.],\n",
      "        [136., 214., 150., 223.]]), tensor([[186.,   7., 201.,  13.],\n",
      "        [182., 206., 191., 216.]]), tensor([[195., 164., 202., 175.],\n",
      "        [205., 181., 219., 206.]])], 'box_scores': [tensor([0.5000, 0.5000, 0.5000]), tensor([0.5000, 0.5000, 0.5000]), tensor([0.5000]), tensor([0.5000]), tensor([0.5000, 0.5000, 0.5000]), tensor([0.5000]), tensor([0.5000, 0.5000, 0.5000]), tensor([0.5000]), tensor([0.5000, 0.5000, 0.5000, 0.5000, 0.5000, 0.5000]), tensor([0.5000, 0.5000, 0.5000, 0.5000, 0.5000]), tensor([0.5000]), tensor([0.5000, 0.5000]), tensor([0.5000]), tensor([0.5000, 0.5000, 0.5000, 0.5000]), tensor([0.5000, 0.5000]), tensor([0.5000, 0.5000, 0.5000]), tensor([0.5000, 0.5000, 0.5000]), tensor([0.5000, 0.5000, 0.5000, 0.5000]), tensor([0.5000, 0.5000]), tensor([0.5000, 0.5000])], 'box_labels': [tensor([1., 1., 1.]), tensor([1., 1., 1.]), tensor([1.]), tensor([1.]), tensor([1., 1., 1.]), tensor([1.]), tensor([1., 1., 1.]), tensor([1.]), tensor([1., 1., 1., 1., 1., 1.]), tensor([1., 1., 1., 1., 1.]), tensor([1.]), tensor([1., 1.]), tensor([1.]), tensor([1., 1., 1., 1.]), tensor([1., 1.]), tensor([1., 1., 1.]), tensor([1., 1., 1.]), tensor([1., 1., 1., 1.]), tensor([1., 1.]), tensor([1., 1.])]}]\n"
     ]
    }
   ],
   "source": [
    "print(results)"
   ]
  },
  {
   "cell_type": "code",
   "execution_count": null,
   "metadata": {},
   "outputs": [],
   "source": []
  }
 ],
 "metadata": {
  "kernelspec": {
   "display_name": "Python 3",
   "language": "python",
   "name": "python3"
  },
  "language_info": {
   "codemirror_mode": {
    "name": "ipython",
    "version": 3
   },
   "file_extension": ".py",
   "mimetype": "text/x-python",
   "name": "python",
   "nbconvert_exporter": "python",
   "pygments_lexer": "ipython3",
   "version": "3.12.5"
  }
 },
 "nbformat": 4,
 "nbformat_minor": 2
}
